{
 "cells": [
  {
   "cell_type": "markdown",
   "metadata": {},
   "source": [
    "# list comprehension"
   ]
  },
  {
   "cell_type": "code",
   "execution_count": 2,
   "metadata": {},
   "outputs": [
    {
     "data": {
      "text/plain": [
       "[1, 4, 5]"
      ]
     },
     "execution_count": 2,
     "metadata": {},
     "output_type": "execute_result"
    }
   ],
   "source": [
    "#method1\n",
    "list1 = [1,2,3,4,5]\n",
    "indices = [0,3,4]\n",
    "\n",
    "[list1[i] for i in indices]\n",
    "\n",
    "# contained\n"
   ]
  },
  {
   "cell_type": "code",
   "execution_count": 3,
   "metadata": {},
   "outputs": [
    {
     "data": {
      "text/plain": [
       "[0, 3, 4]"
      ]
     },
     "execution_count": 3,
     "metadata": {},
     "output_type": "execute_result"
    }
   ],
   "source": [
    "#method1\n",
    "list1 = [1,2,3,4,5]\n",
    "indices = [0,3,4]\n",
    "\n",
    "[i for i in indices]"
   ]
  },
  {
   "cell_type": "code",
   "execution_count": 4,
   "metadata": {},
   "outputs": [
    {
     "data": {
      "text/plain": [
       "[0, 3, 4]"
      ]
     },
     "execution_count": 4,
     "metadata": {},
     "output_type": "execute_result"
    }
   ],
   "source": [
    "x= (0,3,4)\n",
    "list(x)"
   ]
  },
  {
   "cell_type": "code",
   "execution_count": 5,
   "metadata": {},
   "outputs": [
    {
     "name": "stdout",
     "output_type": "stream",
     "text": [
      "1\n",
      "4\n",
      "5\n"
     ]
    }
   ],
   "source": [
    "indices = [0,3,4]\n",
    "for i in indices:\n",
    "    print(list1[i])\n",
    "    \n",
    " #this is a printout   "
   ]
  },
  {
   "cell_type": "code",
   "execution_count": 6,
   "metadata": {},
   "outputs": [
    {
     "name": "stdout",
     "output_type": "stream",
     "text": [
      "[1, 4, 5]\n"
     ]
    }
   ],
   "source": [
    "# method2\n",
    "indices = [0,3,4]\n",
    "result = []\n",
    "for i in indices:\n",
    "    result.append(list1[i])\n",
    "print(result)\n",
    "\n",
    "#this will\n",
    "#this is a printout "
   ]
  },
  {
   "cell_type": "markdown",
   "metadata": {},
   "source": [
    "# Data type\n",
    "### primitive data type\n",
    "int\n",
    "float\n",
    "bool\n",
    "string\n",
    "\n",
    "### data structures/composite data type\n",
    "(made up of date type)\n",
    "list\n",
    "tuple\n",
    "dict"
   ]
  },
  {
   "cell_type": "markdown",
   "metadata": {},
   "source": [
    "# Tuple"
   ]
  },
  {
   "cell_type": "code",
   "execution_count": 7,
   "metadata": {},
   "outputs": [
    {
     "data": {
      "text/plain": [
       "'SIN'"
      ]
     },
     "execution_count": 7,
     "metadata": {},
     "output_type": "execute_result"
    }
   ],
   "source": [
    "# immutable\n",
    "# performance is optimized as position is fixed\n",
    "# returns multiple values\n",
    "flight = (\"SIN\",\"SFO\",16)\n",
    "flight[0]\n"
   ]
  },
  {
   "cell_type": "markdown",
   "metadata": {},
   "source": [
    "# List\n"
   ]
  },
  {
   "cell_type": "code",
   "execution_count": 8,
   "metadata": {},
   "outputs": [],
   "source": [
    "# mutable (changes)\n",
    "# unpacking\n",
    "flight = (\"SIN\",\"SFO\",16)\n",
    "origin, dest, hours = flight"
   ]
  },
  {
   "cell_type": "code",
   "execution_count": 9,
   "metadata": {},
   "outputs": [
    {
     "data": {
      "text/plain": [
       "['SIN', 'SFO', 16]"
      ]
     },
     "execution_count": 9,
     "metadata": {},
     "output_type": "execute_result"
    }
   ],
   "source": [
    "# list(range(5))\n",
    "flights = (\"SIN\",\"SFO\",16)\n",
    "flights_list = list(flights)\n",
    "flights_list"
   ]
  },
  {
   "cell_type": "code",
   "execution_count": 10,
   "metadata": {},
   "outputs": [
    {
     "name": "stdout",
     "output_type": "stream",
     "text": [
      "odds digits :5, Even digits:5\n"
     ]
    }
   ],
   "source": [
    "# count number of odd digit\n",
    "# write a function to count hte numner of odd and even digits in the string\n",
    "# return the answer as tuple\n",
    "\n",
    "# [list[i] for i in S]\n",
    "\n",
    "\n",
    "s = '0123456789'\n",
    "\n",
    "def count(s):\n",
    "    odds = evens = 0\n",
    "    for c in s:\n",
    "        if int(c) % 2 == 0:\n",
    "            evens += 1\n",
    "        else:\n",
    "            odds += 1\n",
    "    return (odds, evens) #this will return tuple\n",
    "#     return odds, evens #this will return tuple\n",
    "#     return [odds, evens] #this will return list\n",
    "#     return evens #this will return tuple\n",
    "\n",
    "           \n",
    "o, e = count(s)  \n",
    "\n",
    "print(f'odds digits :{o}, Even digits:{e}')\n",
    "#         print(type(c))\n",
    "\n",
    "# count('123456789')\n",
    "\n"
   ]
  },
  {
   "cell_type": "code",
   "execution_count": 11,
   "metadata": {},
   "outputs": [
    {
     "data": {
      "text/plain": [
       "tuple"
      ]
     },
     "execution_count": 11,
     "metadata": {},
     "output_type": "execute_result"
    }
   ],
   "source": [
    "result = count(s)\n",
    "type(result)"
   ]
  },
  {
   "cell_type": "code",
   "execution_count": 12,
   "metadata": {},
   "outputs": [
    {
     "data": {
      "text/plain": [
       "int"
      ]
     },
     "execution_count": 12,
     "metadata": {},
     "output_type": "execute_result"
    }
   ],
   "source": [
    "type(o)"
   ]
  },
  {
   "cell_type": "code",
   "execution_count": 13,
   "metadata": {},
   "outputs": [
    {
     "data": {
      "text/plain": [
       "int"
      ]
     },
     "execution_count": 13,
     "metadata": {},
     "output_type": "execute_result"
    }
   ],
   "source": [
    "type(e)"
   ]
  },
  {
   "cell_type": "markdown",
   "metadata": {},
   "source": [
    "# Question: # this function 'average' takes a number of arguments, and returns the means of the arguments"
   ]
  },
  {
   "cell_type": "code",
   "execution_count": 14,
   "metadata": {},
   "outputs": [
    {
     "name": "stdout",
     "output_type": "stream",
     "text": [
      "1\n",
      "3\n",
      "6\n"
     ]
    }
   ],
   "source": [
    "# method2\n",
    "def mysteryX(a,*b):\n",
    "    return a + sum(b)\n",
    "\n",
    "print(mysteryX(1))\n",
    "print(mysteryX(1,2))\n",
    "print(mysteryX(1,2,3))"
   ]
  },
  {
   "cell_type": "code",
   "execution_count": 15,
   "metadata": {},
   "outputs": [
    {
     "data": {
      "text/plain": [
       "3.0"
      ]
     },
     "execution_count": 15,
     "metadata": {},
     "output_type": "execute_result"
    }
   ],
   "source": [
    "def average(*n):\n",
    "    return sum(n)/len(n)\n",
    "\n",
    "\n",
    "average(1,2,3,4,5)"
   ]
  },
  {
   "cell_type": "code",
   "execution_count": 16,
   "metadata": {},
   "outputs": [
    {
     "data": {
      "text/plain": [
       "3"
      ]
     },
     "execution_count": 16,
     "metadata": {},
     "output_type": "execute_result"
    }
   ],
   "source": [
    "def averageX(*n):\n",
    "    return sum(n)//len(n)\n",
    "\n",
    "\n",
    "averageX(1,2,3,4,5)"
   ]
  },
  {
   "cell_type": "code",
   "execution_count": 1,
   "metadata": {},
   "outputs": [
    {
     "ename": "NameError",
     "evalue": "name 'modules' is not defined",
     "output_type": "error",
     "traceback": [
      "\u001b[1;31m---------------------------------------------------------------------------\u001b[0m",
      "\u001b[1;31mNameError\u001b[0m                                 Traceback (most recent call last)",
      "\u001b[1;32m<ipython-input-1-cee8a58dfa96>\u001b[0m in \u001b[0;36m<module>\u001b[1;34m\u001b[0m\n\u001b[0;32m      3\u001b[0m \u001b[1;33m\u001b[0m\u001b[0m\n\u001b[0;32m      4\u001b[0m \u001b[1;33m\u001b[0m\u001b[0m\n\u001b[1;32m----> 5\u001b[1;33m \u001b[0mmodules\u001b[0m\u001b[1;33m(\u001b[0m\u001b[1;36m1\u001b[0m\u001b[1;33m,\u001b[0m\u001b[1;36m2\u001b[0m\u001b[1;33m,\u001b[0m\u001b[1;36m3\u001b[0m\u001b[1;33m,\u001b[0m\u001b[1;36m4\u001b[0m\u001b[1;33m,\u001b[0m\u001b[1;36m5\u001b[0m\u001b[1;33m)\u001b[0m\u001b[1;33m\u001b[0m\u001b[1;33m\u001b[0m\u001b[0m\n\u001b[0m",
      "\u001b[1;31mNameError\u001b[0m: name 'modules' is not defined"
     ]
    }
   ],
   "source": [
    "def modulus(*n):\n",
    "    return sum(n)%len(n)\n",
    "\n",
    "\n",
    "modules(1,2,3,4,5)"
   ]
  },
  {
   "cell_type": "markdown",
   "metadata": {},
   "source": [
    "# Composite Data type"
   ]
  },
  {
   "cell_type": "code",
   "execution_count": 18,
   "metadata": {},
   "outputs": [
    {
     "name": "stdout",
     "output_type": "stream",
     "text": [
      "{'john': 172, 'jane': {'a': 'xxxx', 'b': 'yyyy'}, 'amy': 169, 1: [1, 2, 3]}\n"
     ]
    }
   ],
   "source": [
    "# composite\n",
    "# list[], tuple(),dict{}\n",
    "\n",
    "heights = {\n",
    "    'john': 172, # keys, values\n",
    "    'jane': 178,\n",
    "    'amy' : 169,\n",
    "    1 : [1,2,3], # keys, values\n",
    "    'jane': {'a':'xxxx', 'b':'yyyy'},\n",
    "    'amy' : 169    \n",
    "}\n",
    "\n",
    "\n",
    "print(heights)"
   ]
  },
  {
   "cell_type": "code",
   "execution_count": 19,
   "metadata": {},
   "outputs": [
    {
     "data": {
      "text/plain": [
       "[1, 2, 3]"
      ]
     },
     "execution_count": 19,
     "metadata": {},
     "output_type": "execute_result"
    }
   ],
   "source": [
    "heights[1]"
   ]
  },
  {
   "cell_type": "code",
   "execution_count": 20,
   "metadata": {},
   "outputs": [
    {
     "name": "stdout",
     "output_type": "stream",
     "text": [
      "{'john': 172, 'jane': {'a': 'xxxx', 'b': 'yyyy'}, 'amy': 169, 1: [1, 2, 3], 2: 'Hello'}\n"
     ]
    }
   ],
   "source": [
    "#to append values\n",
    "heights[2] = 'Hello'\n",
    "print(heights)"
   ]
  },
  {
   "cell_type": "code",
   "execution_count": 21,
   "metadata": {},
   "outputs": [
    {
     "data": {
      "text/plain": [
       "{'john': 172,\n",
       " 'jane': {'a': 'xxxx', 'b': 'yyyy'},\n",
       " 'amy': 169,\n",
       " 1: [1, 2, 3],\n",
       " 2: 'Hello',\n",
       " 'furnaces': {1, 2, 3, 4, 5}}"
      ]
     },
     "execution_count": 21,
     "metadata": {},
     "output_type": "execute_result"
    }
   ],
   "source": [
    "#to append values\n",
    "heights['furnaces'] ={1,2,3,4,5}\n",
    "heights"
   ]
  },
  {
   "cell_type": "code",
   "execution_count": 22,
   "metadata": {},
   "outputs": [
    {
     "data": {
      "text/plain": [
       "dict_keys(['john', 'jane', 'amy', 1, 2, 'furnaces'])"
      ]
     },
     "execution_count": 22,
     "metadata": {},
     "output_type": "execute_result"
    }
   ],
   "source": [
    "#to print keys\n",
    "heights.keys() #function dict.keys()"
   ]
  },
  {
   "cell_type": "code",
   "execution_count": 23,
   "metadata": {},
   "outputs": [
    {
     "name": "stdout",
     "output_type": "stream",
     "text": [
      "172\n",
      "{'a': 'xxxx', 'b': 'yyyy'}\n",
      "169\n",
      "[1, 2, 3]\n",
      "Hello\n",
      "{1, 2, 3, 4, 5}\n"
     ]
    }
   ],
   "source": [
    "#to print values\n",
    "for key in heights.keys():\n",
    "    print(heights[key]) #calling the values"
   ]
  },
  {
   "cell_type": "code",
   "execution_count": 24,
   "metadata": {},
   "outputs": [
    {
     "ename": "AttributeError",
     "evalue": "'dict' object has no attribute 'key'",
     "output_type": "error",
     "traceback": [
      "\u001b[1;31m---------------------------------------------------------------------------\u001b[0m",
      "\u001b[1;31mAttributeError\u001b[0m                            Traceback (most recent call last)",
      "\u001b[1;32m<ipython-input-24-c65cf7615813>\u001b[0m in \u001b[0;36m<module>\u001b[1;34m\u001b[0m\n\u001b[1;32m----> 1\u001b[1;33m \u001b[1;32mfor\u001b[0m \u001b[0mkey\u001b[0m \u001b[1;32min\u001b[0m \u001b[0mheights\u001b[0m\u001b[1;33m.\u001b[0m\u001b[0mkey\u001b[0m\u001b[1;33m:\u001b[0m\u001b[1;33m\u001b[0m\u001b[1;33m\u001b[0m\u001b[0m\n\u001b[0m\u001b[0;32m      2\u001b[0m     \u001b[0mprint\u001b[0m\u001b[1;33m(\u001b[0m\u001b[0mheights\u001b[0m\u001b[1;33m[\u001b[0m\u001b[0mkey\u001b[0m\u001b[1;33m]\u001b[0m\u001b[1;33m)\u001b[0m\u001b[1;33m\u001b[0m\u001b[1;33m\u001b[0m\u001b[0m\n\u001b[0;32m      3\u001b[0m \u001b[1;31m# print(heights['jane']['a'])\u001b[0m\u001b[1;33m\u001b[0m\u001b[1;33m\u001b[0m\u001b[1;33m\u001b[0m\u001b[0m\n",
      "\u001b[1;31mAttributeError\u001b[0m: 'dict' object has no attribute 'key'"
     ]
    }
   ],
   "source": [
    "for key in heights.key:\n",
    "    print(heights[key])\n",
    "# print(heights['jane']['a'])"
   ]
  },
  {
   "cell_type": "code",
   "execution_count": 25,
   "metadata": {},
   "outputs": [
    {
     "data": {
      "text/plain": [
       "{'xiaomi': ['xv1', 'xv2', 'xv3'],\n",
       " 'samsung': ['sv1', 'sv2', 'sv3'],\n",
       " 'nokia': ['n1,n2', 'n3']}"
      ]
     },
     "execution_count": 25,
     "metadata": {},
     "output_type": "execute_result"
    }
   ],
   "source": [
    "# Question \n",
    "phone_model = {\n",
    "    'xiaomi' : ['xv1','xv2','xv3'],\n",
    "    'samsung': ['sv1','sv2','sv3'],\n",
    "    'nokia': ['n1,n2','n3']\n",
    "}\n",
    "\n",
    "phone_model"
   ]
  },
  {
   "cell_type": "code",
   "execution_count": 26,
   "metadata": {},
   "outputs": [
    {
     "name": "stdout",
     "output_type": "stream",
     "text": [
      "xiaomi\n",
      "samsung\n",
      "nokia\n"
     ]
    }
   ],
   "source": [
    "for x in phone_model.keys():\n",
    "    print(x)"
   ]
  },
  {
   "cell_type": "code",
   "execution_count": 27,
   "metadata": {},
   "outputs": [
    {
     "name": "stdout",
     "output_type": "stream",
     "text": [
      "xiaomi\n",
      "samsung\n",
      "nokia\n"
     ]
    }
   ],
   "source": [
    "for y in phone_model:\n",
    "    print(y)"
   ]
  },
  {
   "cell_type": "code",
   "execution_count": 28,
   "metadata": {},
   "outputs": [
    {
     "name": "stdout",
     "output_type": "stream",
     "text": [
      "xv1\n",
      "xv2\n",
      "xv3\n",
      "sv1\n",
      "sv2\n",
      "sv3\n",
      "n1,n2\n",
      "n3\n"
     ]
    }
   ],
   "source": [
    "for f in phone_model:\n",
    "    for b in phone_model[f]:\n",
    "        print(b)"
   ]
  },
  {
   "cell_type": "code",
   "execution_count": 29,
   "metadata": {},
   "outputs": [
    {
     "name": "stdout",
     "output_type": "stream",
     "text": [
      "apple\n",
      "_____\n",
      "iphoneX\n",
      "iphone11\n",
      "iphone12\n",
      "\n",
      "samsung\n",
      "_______\n",
      "s1\n",
      "s2\n",
      "\n",
      "mi\n",
      "__\n",
      "mi A\n",
      "mi B\n",
      "\n"
     ]
    }
   ],
   "source": [
    "devices ={\n",
    "    'apple':['iphoneX','iphone11','iphone12'],\n",
    "    'samsung':['s1','s2'],\n",
    "    'mi':['mi A','mi B']\n",
    "    \n",
    "}\n",
    "\n",
    "for brand in devices.keys():\n",
    "    print(brand)\n",
    "    print(\"_\"*len(brand))\n",
    "    phones = devices[brand]\n",
    "    for phone in phones:\n",
    "        print(phone)\n",
    "    print()"
   ]
  },
  {
   "cell_type": "markdown",
   "metadata": {},
   "source": [
    "# Conditional loopings"
   ]
  },
  {
   "cell_type": "code",
   "execution_count": 30,
   "metadata": {},
   "outputs": [
    {
     "name": "stdout",
     "output_type": "stream",
     "text": [
      "1\n",
      "2\n",
      "3\n",
      "4\n",
      "6\n",
      "7\n",
      "8\n",
      "9\n",
      "10\n"
     ]
    }
   ],
   "source": [
    "for i in range(1,11):\n",
    "    if i == 5:\n",
    "        continue\n",
    "    print(i)"
   ]
  },
  {
   "cell_type": "code",
   "execution_count": 35,
   "metadata": {},
   "outputs": [
    {
     "name": "stdout",
     "output_type": "stream",
     "text": [
      "1\n",
      "2\n",
      "3\n",
      "4\n"
     ]
    }
   ],
   "source": [
    "for i in range(1,11):\n",
    "    if i == 5:\n",
    "        break;\n",
    "    print(i)"
   ]
  },
  {
   "cell_type": "code",
   "execution_count": 36,
   "metadata": {},
   "outputs": [
    {
     "name": "stdout",
     "output_type": "stream",
     "text": [
      "hello\n"
     ]
    }
   ],
   "source": [
    "while True:\n",
    "    print('hello')\n",
    "    break"
   ]
  },
  {
   "cell_type": "code",
   "execution_count": 38,
   "metadata": {},
   "outputs": [
    {
     "name": "stdout",
     "output_type": "stream",
     "text": [
      "enter: hello\n",
      "enter: hello\n",
      "enter: hello\n",
      "enter: Quit\n"
     ]
    }
   ],
   "source": [
    "msg = input('enter: ')\n",
    "\n",
    "while msg:\n",
    "    msg = input('enter: ')\n",
    "    if msg.lower()=='quit':\n",
    "        break"
   ]
  },
  {
   "cell_type": "code",
   "execution_count": null,
   "metadata": {},
   "outputs": [],
   "source": [
    "while 1:\n",
    "    msg = input('enter: ')\n",
    "    if msg.lower()=='quit':\n",
    "        break\n",
    "        \n",
    "# lower,title - caps the first lette,upper\n",
    "# 0 - false\n",
    "# >= 1 - true"
   ]
  },
  {
   "cell_type": "code",
   "execution_count": null,
   "metadata": {},
   "outputs": [],
   "source": []
  },
  {
   "cell_type": "code",
   "execution_count": null,
   "metadata": {},
   "outputs": [],
   "source": []
  },
  {
   "cell_type": "code",
   "execution_count": null,
   "metadata": {},
   "outputs": [],
   "source": []
  },
  {
   "cell_type": "code",
   "execution_count": null,
   "metadata": {},
   "outputs": [],
   "source": []
  }
 ],
 "metadata": {
  "kernelspec": {
   "display_name": "Python 3",
   "language": "python",
   "name": "python3"
  },
  "language_info": {
   "codemirror_mode": {
    "name": "ipython",
    "version": 3
   },
   "file_extension": ".py",
   "mimetype": "text/x-python",
   "name": "python",
   "nbconvert_exporter": "python",
   "pygments_lexer": "ipython3",
   "version": "3.8.5"
  }
 },
 "nbformat": 4,
 "nbformat_minor": 4
}
