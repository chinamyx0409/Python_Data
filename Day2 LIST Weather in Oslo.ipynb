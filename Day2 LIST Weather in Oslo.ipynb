{
 "cells": [
  {
   "cell_type": "code",
   "execution_count": 1,
   "metadata": {},
   "outputs": [
    {
     "name": "stdout",
     "output_type": "stream",
     "text": [
      "b'{\"coord\":{\"lon\":10.7461,\"lat\":59.9127},\"weather\":[{\"id\":804,\"main\":\"Clouds\",\"description\":\"overcast clouds\",\"icon\":\"04d\"}],\"base\":\"stations\",\"main\":{\"temp\":273.87,\"feels_like\":270.38,\"temp_min\":273.15,\"temp_max\":274.26,\"pressure\":1014,\"humidity\":71},\"visibility\":10000,\"wind\":{\"speed\":1.42,\"deg\":7,\"gust\":5.18},\"clouds\":{\"all\":96},\"dt\":1615878307,\"sys\":{\"type\":3,\"id\":2003579,\"country\":\"NO\",\"sunrise\":1615872636,\"sunset\":1615915245},\"timezone\":3600,\"id\":3143244,\"name\":\"Oslo\",\"cod\":200}'\n"
     ]
    },
    {
     "data": {
      "text/plain": [
       "dict"
      ]
     },
     "execution_count": 1,
     "metadata": {},
     "output_type": "execute_result"
    }
   ],
   "source": [
    "# http://api.openweathermap.org/data/2.5/weather?q=OSLO&appid=3f63ccf4a308a813a06606c1bc526a16\n",
    "# https://jsonlint.com/\n",
    "# http://jsonviewer.stack.hu/\n",
    "    \n",
    "from urllib.request import urlopen\n",
    "\n",
    "import json\n",
    "\n",
    "#b = binary\n",
    "sock = urlopen(\"http://api.openweathermap.org/data/2.5/weather?q=OSLO&appid=3f63ccf4a308a813a06606c1bc526a16\")\n",
    "\n",
    "result = sock.read()\n",
    "res = json.loads(result)\n",
    "\n",
    "sock.close()\n",
    "print(result)\n",
    "type(res)\n",
    "\n",
    "\n",
    "    "
   ]
  },
  {
   "cell_type": "code",
   "execution_count": 2,
   "metadata": {},
   "outputs": [
    {
     "data": {
      "text/plain": [
       "[{'id': 804,\n",
       "  'main': 'Clouds',\n",
       "  'description': 'overcast clouds',\n",
       "  'icon': '04d'}]"
      ]
     },
     "execution_count": 2,
     "metadata": {},
     "output_type": "execute_result"
    }
   ],
   "source": [
    "res['weather']"
   ]
  },
  {
   "cell_type": "code",
   "execution_count": 3,
   "metadata": {},
   "outputs": [
    {
     "data": {
      "text/plain": [
       "273.87"
      ]
     },
     "execution_count": 3,
     "metadata": {},
     "output_type": "execute_result"
    }
   ],
   "source": [
    "res['main']['temp']"
   ]
  },
  {
   "cell_type": "code",
   "execution_count": 8,
   "metadata": {},
   "outputs": [
    {
     "data": {
      "text/plain": [
       "[{'id': 804,\n",
       "  'main': 'Clouds',\n",
       "  'description': 'overcast clouds',\n",
       "  'icon': '04d'}]"
      ]
     },
     "execution_count": 8,
     "metadata": {},
     "output_type": "execute_result"
    }
   ],
   "source": [
    "res['weather']\n",
    "\n"
   ]
  },
  {
   "cell_type": "code",
   "execution_count": 11,
   "metadata": {},
   "outputs": [
    {
     "data": {
      "text/plain": [
       "{'id': 804, 'main': 'Clouds', 'description': 'overcast clouds', 'icon': '04d'}"
      ]
     },
     "execution_count": 11,
     "metadata": {},
     "output_type": "execute_result"
    }
   ],
   "source": [
    "res['weather'][0]\n"
   ]
  },
  {
   "cell_type": "code",
   "execution_count": 12,
   "metadata": {},
   "outputs": [
    {
     "data": {
      "text/plain": [
       "'overcast clouds'"
      ]
     },
     "execution_count": 12,
     "metadata": {},
     "output_type": "execute_result"
    }
   ],
   "source": [
    "res['weather'][0]['description']"
   ]
  },
  {
   "cell_type": "code",
   "execution_count": 20,
   "metadata": {},
   "outputs": [
    {
     "name": "stdout",
     "output_type": "stream",
     "text": [
      "coord\n",
      "weather\n",
      "base\n",
      "main\n",
      "visibility\n",
      "wind\n",
      "clouds\n",
      "dt\n",
      "sys\n",
      "timezone\n",
      "id\n",
      "name\n",
      "cod\n"
     ]
    }
   ],
   "source": [
    "for item in res:\n",
    "    print(item)"
   ]
  },
  {
   "cell_type": "code",
   "execution_count": 19,
   "metadata": {},
   "outputs": [
    {
     "name": "stdout",
     "output_type": "stream",
     "text": [
      "c\n",
      "o\n",
      "o\n",
      "r\n",
      "d\n",
      "w\n",
      "e\n",
      "a\n",
      "t\n",
      "h\n",
      "e\n",
      "r\n",
      "b\n",
      "a\n",
      "s\n",
      "e\n",
      "m\n",
      "a\n",
      "i\n",
      "n\n",
      "v\n",
      "i\n",
      "s\n",
      "i\n",
      "b\n",
      "i\n",
      "l\n",
      "i\n",
      "t\n",
      "y\n",
      "w\n",
      "i\n",
      "n\n",
      "d\n",
      "c\n",
      "l\n",
      "o\n",
      "u\n",
      "d\n",
      "s\n",
      "d\n",
      "t\n",
      "s\n",
      "y\n",
      "s\n",
      "t\n",
      "i\n",
      "m\n",
      "e\n",
      "z\n",
      "o\n",
      "n\n",
      "e\n",
      "i\n",
      "d\n",
      "n\n",
      "a\n",
      "m\n",
      "e\n",
      "c\n",
      "o\n",
      "d\n"
     ]
    }
   ],
   "source": [
    "for x in res:\n",
    "    for a in x:\n",
    "        print(f'{a}')"
   ]
  },
  {
   "cell_type": "code",
   "execution_count": null,
   "metadata": {},
   "outputs": [],
   "source": []
  }
 ],
 "metadata": {
  "kernelspec": {
   "display_name": "Python 3",
   "language": "python",
   "name": "python3"
  },
  "language_info": {
   "codemirror_mode": {
    "name": "ipython",
    "version": 3
   },
   "file_extension": ".py",
   "mimetype": "text/x-python",
   "name": "python",
   "nbconvert_exporter": "python",
   "pygments_lexer": "ipython3",
   "version": "3.8.5"
  }
 },
 "nbformat": 4,
 "nbformat_minor": 4
}
