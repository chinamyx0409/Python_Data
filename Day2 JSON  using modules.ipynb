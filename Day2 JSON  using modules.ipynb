{
 "cells": [
  {
   "cell_type": "markdown",
   "metadata": {},
   "source": [
    "# Modules\n",
    "# https://courses.dataschool.sg/courses/take/programming-in-python-i/pdfs/8599868-using-modules"
   ]
  },
  {
   "cell_type": "markdown",
   "metadata": {},
   "source": [
    "# Method1"
   ]
  },
  {
   "cell_type": "code",
   "execution_count": 3,
   "metadata": {},
   "outputs": [
    {
     "name": "stdout",
     "output_type": "stream",
     "text": [
      "b'{\"success\":true,\"timestamp\":1615874826,\"base\":\"EUR\",\"date\":\"2021-03-16\",\"rates\":{\"AED\":4.382458,\"AFN\":93.448032,\"ALL\":122.897896,\"AMD\":628.859117,\"ANG\":2.140742,\"AOA\":739.669009,\"ARS\":108.644455,\"AUD\":1.540406,\"AWG\":2.147702,\"AZN\":2.03055,\"BAM\":1.956417,\"BBD\":2.408043,\"BDT\":101.07602,\"BGN\":1.957602,\"BHD\":0.449973,\"BIF\":2320.756169,\"BMD\":1.193168,\"BND\":1.604781,\"BOB\":8.235239,\"BRL\":6.701066,\"BSD\":1.192668,\"BTC\":2.1985156e-5,\"BTN\":86.349126,\"BWP\":13.120446,\"BYN\":3.092053,\"BYR\":23386.091242,\"BZD\":2.404041,\"CAD\":1.489491,\"CDF\":2344.574855,\"CHF\":1.105945,\"CLF\":0.031268,\"CLP\":862.779147,\"CNY\":7.753685,\"COP\":4246.484629,\"CRC\":728.238453,\"CUC\":1.193168,\"CUP\":31.61895,\"CVE\":110.299011,\"CZK\":26.181322,\"DJF\":212.325472,\"DKK\":7.436192,\"DOP\":68.218464,\"DZD\":159.043745,\"EGP\":18.743234,\"ERN\":17.898034,\"ETB\":48.384014,\"EUR\":1,\"FJD\":2.422723,\"FKP\":0.86032,\"GBP\":0.860316,\"GEL\":3.967324,\"GGP\":0.86032,\"GHS\":6.839809,\"GIP\":0.86032,\"GMD\":61.149481,\"GNF\":12073.121634,\"GTQ\":9.219143,\"GYD\":249.476928,\"HKD\":9.265247,\"HNL\":28.766629,\"HRK\":7.580671,\"HTG\":93.121934,\"HUF\":367.18551,\"IDR\":17187.046969,\"ILS\":3.950054,\"IMP\":0.86032,\"INR\":86.501693,\"IQD\":1739.696446,\"IRR\":50238.335394,\"ISK\":152.296113,\"JEP\":0.86032,\"JMD\":175.186552,\"JOD\":0.845957,\"JPY\":130.272483,\"KES\":130.830996,\"KGS\":101.181447,\"KHR\":4846.653875,\"KMF\":492.534712,\"KPW\":1073.825385,\"KRW\":1349.07323,\"KWD\":0.36042,\"KYD\":0.993906,\"KZT\":499.724093,\"LAK\":11194.551907,\"LBP\":1803.556137,\"LKR\":235.542031,\"LRD\":207.150097,\"LSL\":17.784204,\"LTL\":3.523114,\"LVL\":0.721735,\"LYD\":5.365955,\"MAD\":10.739812,\"MDL\":20.990172,\"MGA\":4509.502738,\"MKD\":61.634005,\"MMK\":1681.633642,\"MNT\":3401.476143,\"MOP\":9.538061,\"MRO\":425.960742,\"MUR\":47.667211,\"MVR\":18.434797,\"MWK\":927.973369,\"MXN\":24.648583,\"MYR\":4.906906,\"MZN\":87.858885,\"NAD\":17.773505,\"NGN\":454.59703,\"NIO\":41.623486,\"NOK\":10.092345,\"NPR\":138.157444,\"NZD\":1.65833,\"OMR\":0.459378,\"PAB\":1.192668,\"PEN\":4.420826,\"PGK\":4.207462,\"PHP\":57.940828,\"PKR\":186.971354,\"PLN\":4.588802,\"PYG\":7903.036949,\"QAR\":4.344281,\"RON\":4.885064,\"RSD\":117.615282,\"RUB\":86.978603,\"RWF\":1185.06549,\"SAR\":4.474789,\"SBD\":9.441984,\"SCR\":25.301093,\"SDG\":452.815299,\"SEK\":10.16319,\"SGD\":1.604477,\"SHP\":0.86032,\"SLL\":12146.449706,\"SOS\":698.602553,\"SRD\":16.888139,\"STD\":24584.156219,\"SVC\":10.436131,\"SYP\":611.827537,\"SZL\":17.725766,\"THB\":36.666723,\"TJS\":13.590191,\"TMT\":4.176088,\"TND\":3.282704,\"TOP\":2.704733,\"TRY\":8.985443,\"TTD\":8.095296,\"TWD\":33.693909,\"TZS\":2766.956422,\"UAH\":32.949584,\"UGX\":4368.647099,\"USD\":1.193168,\"UYU\":52.923319,\"UZS\":12546.073508,\"VEF\":11.916769,\"VND\":27541.895109,\"VUV\":129.50496,\"WST\":2.990665,\"XAF\":656.15383,\"XAG\":0.045424,\"XAU\":0.000687,\"XCD\":3.224596,\"XDR\":0.83505,\"XOF\":656.159331,\"XPF\":119.764272,\"YER\":298.773724,\"ZAR\":17.728233,\"ZMK\":10739.929039,\"ZMW\":26.196478,\"ZWL\":384.200466}}'\n"
     ]
    },
    {
     "data": {
      "text/plain": [
       "dict"
      ]
     },
     "execution_count": 3,
     "metadata": {},
     "output_type": "execute_result"
    }
   ],
   "source": [
    "from urllib.request import urlopen\n",
    "\n",
    "import json\n",
    "\n",
    "#b = binary\n",
    "sock = urlopen(\"http://data.fixer.io/api/latest?access_key=f3ed34dcf10723e7551a3c4efcffe877&\")\n",
    "\n",
    "result = sock.read()\n",
    "res = json.loads(result)\n",
    "\n",
    "sock.close()\n",
    "print(result)\n",
    "type(res)\n",
    "\n",
    "\n"
   ]
  },
  {
   "cell_type": "code",
   "execution_count": 4,
   "metadata": {},
   "outputs": [
    {
     "data": {
      "text/plain": [
       "{'AED': 4.382458,\n",
       " 'AFN': 93.448032,\n",
       " 'ALL': 122.897896,\n",
       " 'AMD': 628.859117,\n",
       " 'ANG': 2.140742,\n",
       " 'AOA': 739.669009,\n",
       " 'ARS': 108.644455,\n",
       " 'AUD': 1.540406,\n",
       " 'AWG': 2.147702,\n",
       " 'AZN': 2.03055,\n",
       " 'BAM': 1.956417,\n",
       " 'BBD': 2.408043,\n",
       " 'BDT': 101.07602,\n",
       " 'BGN': 1.957602,\n",
       " 'BHD': 0.449973,\n",
       " 'BIF': 2320.756169,\n",
       " 'BMD': 1.193168,\n",
       " 'BND': 1.604781,\n",
       " 'BOB': 8.235239,\n",
       " 'BRL': 6.701066,\n",
       " 'BSD': 1.192668,\n",
       " 'BTC': 2.1985156e-05,\n",
       " 'BTN': 86.349126,\n",
       " 'BWP': 13.120446,\n",
       " 'BYN': 3.092053,\n",
       " 'BYR': 23386.091242,\n",
       " 'BZD': 2.404041,\n",
       " 'CAD': 1.489491,\n",
       " 'CDF': 2344.574855,\n",
       " 'CHF': 1.105945,\n",
       " 'CLF': 0.031268,\n",
       " 'CLP': 862.779147,\n",
       " 'CNY': 7.753685,\n",
       " 'COP': 4246.484629,\n",
       " 'CRC': 728.238453,\n",
       " 'CUC': 1.193168,\n",
       " 'CUP': 31.61895,\n",
       " 'CVE': 110.299011,\n",
       " 'CZK': 26.181322,\n",
       " 'DJF': 212.325472,\n",
       " 'DKK': 7.436192,\n",
       " 'DOP': 68.218464,\n",
       " 'DZD': 159.043745,\n",
       " 'EGP': 18.743234,\n",
       " 'ERN': 17.898034,\n",
       " 'ETB': 48.384014,\n",
       " 'EUR': 1,\n",
       " 'FJD': 2.422723,\n",
       " 'FKP': 0.86032,\n",
       " 'GBP': 0.860316,\n",
       " 'GEL': 3.967324,\n",
       " 'GGP': 0.86032,\n",
       " 'GHS': 6.839809,\n",
       " 'GIP': 0.86032,\n",
       " 'GMD': 61.149481,\n",
       " 'GNF': 12073.121634,\n",
       " 'GTQ': 9.219143,\n",
       " 'GYD': 249.476928,\n",
       " 'HKD': 9.265247,\n",
       " 'HNL': 28.766629,\n",
       " 'HRK': 7.580671,\n",
       " 'HTG': 93.121934,\n",
       " 'HUF': 367.18551,\n",
       " 'IDR': 17187.046969,\n",
       " 'ILS': 3.950054,\n",
       " 'IMP': 0.86032,\n",
       " 'INR': 86.501693,\n",
       " 'IQD': 1739.696446,\n",
       " 'IRR': 50238.335394,\n",
       " 'ISK': 152.296113,\n",
       " 'JEP': 0.86032,\n",
       " 'JMD': 175.186552,\n",
       " 'JOD': 0.845957,\n",
       " 'JPY': 130.272483,\n",
       " 'KES': 130.830996,\n",
       " 'KGS': 101.181447,\n",
       " 'KHR': 4846.653875,\n",
       " 'KMF': 492.534712,\n",
       " 'KPW': 1073.825385,\n",
       " 'KRW': 1349.07323,\n",
       " 'KWD': 0.36042,\n",
       " 'KYD': 0.993906,\n",
       " 'KZT': 499.724093,\n",
       " 'LAK': 11194.551907,\n",
       " 'LBP': 1803.556137,\n",
       " 'LKR': 235.542031,\n",
       " 'LRD': 207.150097,\n",
       " 'LSL': 17.784204,\n",
       " 'LTL': 3.523114,\n",
       " 'LVL': 0.721735,\n",
       " 'LYD': 5.365955,\n",
       " 'MAD': 10.739812,\n",
       " 'MDL': 20.990172,\n",
       " 'MGA': 4509.502738,\n",
       " 'MKD': 61.634005,\n",
       " 'MMK': 1681.633642,\n",
       " 'MNT': 3401.476143,\n",
       " 'MOP': 9.538061,\n",
       " 'MRO': 425.960742,\n",
       " 'MUR': 47.667211,\n",
       " 'MVR': 18.434797,\n",
       " 'MWK': 927.973369,\n",
       " 'MXN': 24.648583,\n",
       " 'MYR': 4.906906,\n",
       " 'MZN': 87.858885,\n",
       " 'NAD': 17.773505,\n",
       " 'NGN': 454.59703,\n",
       " 'NIO': 41.623486,\n",
       " 'NOK': 10.092345,\n",
       " 'NPR': 138.157444,\n",
       " 'NZD': 1.65833,\n",
       " 'OMR': 0.459378,\n",
       " 'PAB': 1.192668,\n",
       " 'PEN': 4.420826,\n",
       " 'PGK': 4.207462,\n",
       " 'PHP': 57.940828,\n",
       " 'PKR': 186.971354,\n",
       " 'PLN': 4.588802,\n",
       " 'PYG': 7903.036949,\n",
       " 'QAR': 4.344281,\n",
       " 'RON': 4.885064,\n",
       " 'RSD': 117.615282,\n",
       " 'RUB': 86.978603,\n",
       " 'RWF': 1185.06549,\n",
       " 'SAR': 4.474789,\n",
       " 'SBD': 9.441984,\n",
       " 'SCR': 25.301093,\n",
       " 'SDG': 452.815299,\n",
       " 'SEK': 10.16319,\n",
       " 'SGD': 1.604477,\n",
       " 'SHP': 0.86032,\n",
       " 'SLL': 12146.449706,\n",
       " 'SOS': 698.602553,\n",
       " 'SRD': 16.888139,\n",
       " 'STD': 24584.156219,\n",
       " 'SVC': 10.436131,\n",
       " 'SYP': 611.827537,\n",
       " 'SZL': 17.725766,\n",
       " 'THB': 36.666723,\n",
       " 'TJS': 13.590191,\n",
       " 'TMT': 4.176088,\n",
       " 'TND': 3.282704,\n",
       " 'TOP': 2.704733,\n",
       " 'TRY': 8.985443,\n",
       " 'TTD': 8.095296,\n",
       " 'TWD': 33.693909,\n",
       " 'TZS': 2766.956422,\n",
       " 'UAH': 32.949584,\n",
       " 'UGX': 4368.647099,\n",
       " 'USD': 1.193168,\n",
       " 'UYU': 52.923319,\n",
       " 'UZS': 12546.073508,\n",
       " 'VEF': 11.916769,\n",
       " 'VND': 27541.895109,\n",
       " 'VUV': 129.50496,\n",
       " 'WST': 2.990665,\n",
       " 'XAF': 656.15383,\n",
       " 'XAG': 0.045424,\n",
       " 'XAU': 0.000687,\n",
       " 'XCD': 3.224596,\n",
       " 'XDR': 0.83505,\n",
       " 'XOF': 656.159331,\n",
       " 'XPF': 119.764272,\n",
       " 'YER': 298.773724,\n",
       " 'ZAR': 17.728233,\n",
       " 'ZMK': 10739.929039,\n",
       " 'ZMW': 26.196478,\n",
       " 'ZWL': 384.200466}"
      ]
     },
     "execution_count": 4,
     "metadata": {},
     "output_type": "execute_result"
    }
   ],
   "source": [
    "res['rates']"
   ]
  },
  {
   "cell_type": "code",
   "execution_count": 5,
   "metadata": {},
   "outputs": [
    {
     "data": {
      "text/plain": [
       "1.604477"
      ]
     },
     "execution_count": 5,
     "metadata": {},
     "output_type": "execute_result"
    }
   ],
   "source": [
    "res['rates']['SGD']"
   ]
  },
  {
   "cell_type": "markdown",
   "metadata": {},
   "source": [
    "# Method2"
   ]
  },
  {
   "cell_type": "code",
   "execution_count": 10,
   "metadata": {},
   "outputs": [
    {
     "ename": "ValueError",
     "evalue": "malformed node or string: <_ast.Name object at 0x0000022B08C75850>",
     "output_type": "error",
     "traceback": [
      "\u001b[1;31m---------------------------------------------------------------------------\u001b[0m",
      "\u001b[1;31mValueError\u001b[0m                                Traceback (most recent call last)",
      "\u001b[1;32m<ipython-input-10-2a1e9236eb6c>\u001b[0m in \u001b[0;36m<module>\u001b[1;34m\u001b[0m\n\u001b[0;32m      8\u001b[0m \u001b[0mfresult\u001b[0m \u001b[1;33m=\u001b[0m \u001b[0msock\u001b[0m\u001b[1;33m.\u001b[0m\u001b[0mread\u001b[0m\u001b[1;33m(\u001b[0m\u001b[1;33m)\u001b[0m\u001b[1;33m\u001b[0m\u001b[1;33m\u001b[0m\u001b[0m\n\u001b[0;32m      9\u001b[0m \u001b[0mx\u001b[0m \u001b[1;33m=\u001b[0m \u001b[0mfresult\u001b[0m\u001b[1;33m.\u001b[0m\u001b[0mdecode\u001b[0m\u001b[1;33m(\u001b[0m\u001b[1;34m\"UTF-8\"\u001b[0m\u001b[1;33m)\u001b[0m\u001b[1;33m\u001b[0m\u001b[1;33m\u001b[0m\u001b[0m\n\u001b[1;32m---> 10\u001b[1;33m \u001b[0mrates_currency\u001b[0m \u001b[1;33m=\u001b[0m \u001b[0mast\u001b[0m\u001b[1;33m.\u001b[0m\u001b[0mliteral_eval\u001b[0m\u001b[1;33m(\u001b[0m\u001b[0mx\u001b[0m\u001b[1;33m)\u001b[0m\u001b[1;33m\u001b[0m\u001b[1;33m\u001b[0m\u001b[0m\n\u001b[0m\u001b[0;32m     11\u001b[0m \u001b[1;33m\u001b[0m\u001b[0m\n\u001b[0;32m     12\u001b[0m \u001b[0msock\u001b[0m\u001b[1;33m.\u001b[0m\u001b[0mclose\u001b[0m\u001b[1;33m(\u001b[0m\u001b[1;33m)\u001b[0m\u001b[1;33m\u001b[0m\u001b[1;33m\u001b[0m\u001b[0m\n",
      "\u001b[1;32m~\\anaconda3\\lib\\ast.py\u001b[0m in \u001b[0;36mliteral_eval\u001b[1;34m(node_or_string)\u001b[0m\n\u001b[0;32m     97\u001b[0m                     \u001b[1;32mreturn\u001b[0m \u001b[0mleft\u001b[0m \u001b[1;33m-\u001b[0m \u001b[0mright\u001b[0m\u001b[1;33m\u001b[0m\u001b[1;33m\u001b[0m\u001b[0m\n\u001b[0;32m     98\u001b[0m         \u001b[1;32mreturn\u001b[0m \u001b[0m_convert_signed_num\u001b[0m\u001b[1;33m(\u001b[0m\u001b[0mnode\u001b[0m\u001b[1;33m)\u001b[0m\u001b[1;33m\u001b[0m\u001b[1;33m\u001b[0m\u001b[0m\n\u001b[1;32m---> 99\u001b[1;33m     \u001b[1;32mreturn\u001b[0m \u001b[0m_convert\u001b[0m\u001b[1;33m(\u001b[0m\u001b[0mnode_or_string\u001b[0m\u001b[1;33m)\u001b[0m\u001b[1;33m\u001b[0m\u001b[1;33m\u001b[0m\u001b[0m\n\u001b[0m\u001b[0;32m    100\u001b[0m \u001b[1;33m\u001b[0m\u001b[0m\n\u001b[0;32m    101\u001b[0m \u001b[1;33m\u001b[0m\u001b[0m\n",
      "\u001b[1;32m~\\anaconda3\\lib\\ast.py\u001b[0m in \u001b[0;36m_convert\u001b[1;34m(node)\u001b[0m\n\u001b[0;32m     86\u001b[0m             \u001b[1;32mif\u001b[0m \u001b[0mlen\u001b[0m\u001b[1;33m(\u001b[0m\u001b[0mnode\u001b[0m\u001b[1;33m.\u001b[0m\u001b[0mkeys\u001b[0m\u001b[1;33m)\u001b[0m \u001b[1;33m!=\u001b[0m \u001b[0mlen\u001b[0m\u001b[1;33m(\u001b[0m\u001b[0mnode\u001b[0m\u001b[1;33m.\u001b[0m\u001b[0mvalues\u001b[0m\u001b[1;33m)\u001b[0m\u001b[1;33m:\u001b[0m\u001b[1;33m\u001b[0m\u001b[1;33m\u001b[0m\u001b[0m\n\u001b[0;32m     87\u001b[0m                 \u001b[0m_raise_malformed_node\u001b[0m\u001b[1;33m(\u001b[0m\u001b[0mnode\u001b[0m\u001b[1;33m)\u001b[0m\u001b[1;33m\u001b[0m\u001b[1;33m\u001b[0m\u001b[0m\n\u001b[1;32m---> 88\u001b[1;33m             return dict(zip(map(_convert, node.keys),\n\u001b[0m\u001b[0;32m     89\u001b[0m                             map(_convert, node.values)))\n\u001b[0;32m     90\u001b[0m         \u001b[1;32melif\u001b[0m \u001b[0misinstance\u001b[0m\u001b[1;33m(\u001b[0m\u001b[0mnode\u001b[0m\u001b[1;33m,\u001b[0m \u001b[0mBinOp\u001b[0m\u001b[1;33m)\u001b[0m \u001b[1;32mand\u001b[0m \u001b[0misinstance\u001b[0m\u001b[1;33m(\u001b[0m\u001b[0mnode\u001b[0m\u001b[1;33m.\u001b[0m\u001b[0mop\u001b[0m\u001b[1;33m,\u001b[0m \u001b[1;33m(\u001b[0m\u001b[0mAdd\u001b[0m\u001b[1;33m,\u001b[0m \u001b[0mSub\u001b[0m\u001b[1;33m)\u001b[0m\u001b[1;33m)\u001b[0m\u001b[1;33m:\u001b[0m\u001b[1;33m\u001b[0m\u001b[1;33m\u001b[0m\u001b[0m\n",
      "\u001b[1;32m~\\anaconda3\\lib\\ast.py\u001b[0m in \u001b[0;36m_convert\u001b[1;34m(node)\u001b[0m\n\u001b[0;32m     96\u001b[0m                 \u001b[1;32melse\u001b[0m\u001b[1;33m:\u001b[0m\u001b[1;33m\u001b[0m\u001b[1;33m\u001b[0m\u001b[0m\n\u001b[0;32m     97\u001b[0m                     \u001b[1;32mreturn\u001b[0m \u001b[0mleft\u001b[0m \u001b[1;33m-\u001b[0m \u001b[0mright\u001b[0m\u001b[1;33m\u001b[0m\u001b[1;33m\u001b[0m\u001b[0m\n\u001b[1;32m---> 98\u001b[1;33m         \u001b[1;32mreturn\u001b[0m \u001b[0m_convert_signed_num\u001b[0m\u001b[1;33m(\u001b[0m\u001b[0mnode\u001b[0m\u001b[1;33m)\u001b[0m\u001b[1;33m\u001b[0m\u001b[1;33m\u001b[0m\u001b[0m\n\u001b[0m\u001b[0;32m     99\u001b[0m     \u001b[1;32mreturn\u001b[0m \u001b[0m_convert\u001b[0m\u001b[1;33m(\u001b[0m\u001b[0mnode_or_string\u001b[0m\u001b[1;33m)\u001b[0m\u001b[1;33m\u001b[0m\u001b[1;33m\u001b[0m\u001b[0m\n\u001b[0;32m    100\u001b[0m \u001b[1;33m\u001b[0m\u001b[0m\n",
      "\u001b[1;32m~\\anaconda3\\lib\\ast.py\u001b[0m in \u001b[0;36m_convert_signed_num\u001b[1;34m(node)\u001b[0m\n\u001b[0;32m     73\u001b[0m             \u001b[1;32melse\u001b[0m\u001b[1;33m:\u001b[0m\u001b[1;33m\u001b[0m\u001b[1;33m\u001b[0m\u001b[0m\n\u001b[0;32m     74\u001b[0m                 \u001b[1;32mreturn\u001b[0m \u001b[1;33m-\u001b[0m \u001b[0moperand\u001b[0m\u001b[1;33m\u001b[0m\u001b[1;33m\u001b[0m\u001b[0m\n\u001b[1;32m---> 75\u001b[1;33m         \u001b[1;32mreturn\u001b[0m \u001b[0m_convert_num\u001b[0m\u001b[1;33m(\u001b[0m\u001b[0mnode\u001b[0m\u001b[1;33m)\u001b[0m\u001b[1;33m\u001b[0m\u001b[1;33m\u001b[0m\u001b[0m\n\u001b[0m\u001b[0;32m     76\u001b[0m     \u001b[1;32mdef\u001b[0m \u001b[0m_convert\u001b[0m\u001b[1;33m(\u001b[0m\u001b[0mnode\u001b[0m\u001b[1;33m)\u001b[0m\u001b[1;33m:\u001b[0m\u001b[1;33m\u001b[0m\u001b[1;33m\u001b[0m\u001b[0m\n\u001b[0;32m     77\u001b[0m         \u001b[1;32mif\u001b[0m \u001b[0misinstance\u001b[0m\u001b[1;33m(\u001b[0m\u001b[0mnode\u001b[0m\u001b[1;33m,\u001b[0m \u001b[0mConstant\u001b[0m\u001b[1;33m)\u001b[0m\u001b[1;33m:\u001b[0m\u001b[1;33m\u001b[0m\u001b[1;33m\u001b[0m\u001b[0m\n",
      "\u001b[1;32m~\\anaconda3\\lib\\ast.py\u001b[0m in \u001b[0;36m_convert_num\u001b[1;34m(node)\u001b[0m\n\u001b[0;32m     64\u001b[0m     \u001b[1;32mdef\u001b[0m \u001b[0m_convert_num\u001b[0m\u001b[1;33m(\u001b[0m\u001b[0mnode\u001b[0m\u001b[1;33m)\u001b[0m\u001b[1;33m:\u001b[0m\u001b[1;33m\u001b[0m\u001b[1;33m\u001b[0m\u001b[0m\n\u001b[0;32m     65\u001b[0m         \u001b[1;32mif\u001b[0m \u001b[1;32mnot\u001b[0m \u001b[0misinstance\u001b[0m\u001b[1;33m(\u001b[0m\u001b[0mnode\u001b[0m\u001b[1;33m,\u001b[0m \u001b[0mConstant\u001b[0m\u001b[1;33m)\u001b[0m \u001b[1;32mor\u001b[0m \u001b[0mtype\u001b[0m\u001b[1;33m(\u001b[0m\u001b[0mnode\u001b[0m\u001b[1;33m.\u001b[0m\u001b[0mvalue\u001b[0m\u001b[1;33m)\u001b[0m \u001b[1;32mnot\u001b[0m \u001b[1;32min\u001b[0m \u001b[1;33m(\u001b[0m\u001b[0mint\u001b[0m\u001b[1;33m,\u001b[0m \u001b[0mfloat\u001b[0m\u001b[1;33m,\u001b[0m \u001b[0mcomplex\u001b[0m\u001b[1;33m)\u001b[0m\u001b[1;33m:\u001b[0m\u001b[1;33m\u001b[0m\u001b[1;33m\u001b[0m\u001b[0m\n\u001b[1;32m---> 66\u001b[1;33m             \u001b[0m_raise_malformed_node\u001b[0m\u001b[1;33m(\u001b[0m\u001b[0mnode\u001b[0m\u001b[1;33m)\u001b[0m\u001b[1;33m\u001b[0m\u001b[1;33m\u001b[0m\u001b[0m\n\u001b[0m\u001b[0;32m     67\u001b[0m         \u001b[1;32mreturn\u001b[0m \u001b[0mnode\u001b[0m\u001b[1;33m.\u001b[0m\u001b[0mvalue\u001b[0m\u001b[1;33m\u001b[0m\u001b[1;33m\u001b[0m\u001b[0m\n\u001b[0;32m     68\u001b[0m     \u001b[1;32mdef\u001b[0m \u001b[0m_convert_signed_num\u001b[0m\u001b[1;33m(\u001b[0m\u001b[0mnode\u001b[0m\u001b[1;33m)\u001b[0m\u001b[1;33m:\u001b[0m\u001b[1;33m\u001b[0m\u001b[1;33m\u001b[0m\u001b[0m\n",
      "\u001b[1;32m~\\anaconda3\\lib\\ast.py\u001b[0m in \u001b[0;36m_raise_malformed_node\u001b[1;34m(node)\u001b[0m\n\u001b[0;32m     61\u001b[0m         \u001b[0mnode_or_string\u001b[0m \u001b[1;33m=\u001b[0m \u001b[0mnode_or_string\u001b[0m\u001b[1;33m.\u001b[0m\u001b[0mbody\u001b[0m\u001b[1;33m\u001b[0m\u001b[1;33m\u001b[0m\u001b[0m\n\u001b[0;32m     62\u001b[0m     \u001b[1;32mdef\u001b[0m \u001b[0m_raise_malformed_node\u001b[0m\u001b[1;33m(\u001b[0m\u001b[0mnode\u001b[0m\u001b[1;33m)\u001b[0m\u001b[1;33m:\u001b[0m\u001b[1;33m\u001b[0m\u001b[1;33m\u001b[0m\u001b[0m\n\u001b[1;32m---> 63\u001b[1;33m         \u001b[1;32mraise\u001b[0m \u001b[0mValueError\u001b[0m\u001b[1;33m(\u001b[0m\u001b[1;34mf'malformed node or string: {node!r}'\u001b[0m\u001b[1;33m)\u001b[0m\u001b[1;33m\u001b[0m\u001b[1;33m\u001b[0m\u001b[0m\n\u001b[0m\u001b[0;32m     64\u001b[0m     \u001b[1;32mdef\u001b[0m \u001b[0m_convert_num\u001b[0m\u001b[1;33m(\u001b[0m\u001b[0mnode\u001b[0m\u001b[1;33m)\u001b[0m\u001b[1;33m:\u001b[0m\u001b[1;33m\u001b[0m\u001b[1;33m\u001b[0m\u001b[0m\n\u001b[0;32m     65\u001b[0m         \u001b[1;32mif\u001b[0m \u001b[1;32mnot\u001b[0m \u001b[0misinstance\u001b[0m\u001b[1;33m(\u001b[0m\u001b[0mnode\u001b[0m\u001b[1;33m,\u001b[0m \u001b[0mConstant\u001b[0m\u001b[1;33m)\u001b[0m \u001b[1;32mor\u001b[0m \u001b[0mtype\u001b[0m\u001b[1;33m(\u001b[0m\u001b[0mnode\u001b[0m\u001b[1;33m.\u001b[0m\u001b[0mvalue\u001b[0m\u001b[1;33m)\u001b[0m \u001b[1;32mnot\u001b[0m \u001b[1;32min\u001b[0m \u001b[1;33m(\u001b[0m\u001b[0mint\u001b[0m\u001b[1;33m,\u001b[0m \u001b[0mfloat\u001b[0m\u001b[1;33m,\u001b[0m \u001b[0mcomplex\u001b[0m\u001b[1;33m)\u001b[0m\u001b[1;33m:\u001b[0m\u001b[1;33m\u001b[0m\u001b[1;33m\u001b[0m\u001b[0m\n",
      "\u001b[1;31mValueError\u001b[0m: malformed node or string: <_ast.Name object at 0x0000022B08C75850>"
     ]
    }
   ],
   "source": [
    "from urllib.request import urlopen\n",
    "\n",
    "import ast\n",
    "\n",
    "#b = binary\n",
    "sock = urlopen(\"http://data.fixer.io/api/latest?access_key=f3ed34dcf10723e7551a3c4efcffe877&\")\n",
    "\n",
    "fresult = sock.read()\n",
    "x = fresult.decode(\"UTF-8\")\n",
    "rates_currency = ast.literal_eval(x)\n",
    "\n",
    "sock.close()\n",
    "print(result)\n",
    "type(res)\n"
   ]
  },
  {
   "cell_type": "code",
   "execution_count": 11,
   "metadata": {},
   "outputs": [
    {
     "ename": "SyntaxError",
     "evalue": "invalid syntax (<ipython-input-11-41f352d0944f>, line 1)",
     "output_type": "error",
     "traceback": [
      "\u001b[1;36m  File \u001b[1;32m\"<ipython-input-11-41f352d0944f>\"\u001b[1;36m, line \u001b[1;32m1\u001b[0m\n\u001b[1;33m    http://api.openweathermap.org/data/2.5/weather?q=OSLO&appid=3f63ccf4a308a813a06606c1bc526a16\u001b[0m\n\u001b[1;37m         ^\u001b[0m\n\u001b[1;31mSyntaxError\u001b[0m\u001b[1;31m:\u001b[0m invalid syntax\n"
     ]
    }
   ],
   "source": [
    "http://api.openweathermap.org/data/2.5/weather?q=OSLO&appid=3f63ccf4a308a813a06606c1bc526a16"
   ]
  },
  {
   "cell_type": "code",
   "execution_count": null,
   "metadata": {},
   "outputs": [],
   "source": []
  }
 ],
 "metadata": {
  "kernelspec": {
   "display_name": "Python 3",
   "language": "python",
   "name": "python3"
  },
  "language_info": {
   "codemirror_mode": {
    "name": "ipython",
    "version": 3
   },
   "file_extension": ".py",
   "mimetype": "text/x-python",
   "name": "python",
   "nbconvert_exporter": "python",
   "pygments_lexer": "ipython3",
   "version": "3.8.3"
  }
 },
 "nbformat": 4,
 "nbformat_minor": 4
}
