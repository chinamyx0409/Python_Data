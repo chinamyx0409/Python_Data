{
 "cells": [
  {
   "cell_type": "code",
   "execution_count": 17,
   "metadata": {},
   "outputs": [],
   "source": [
    "#select entire block of code, shift-tab >>to indent\n",
    "\n",
    "#object orientated programming\n",
    "#enscapulation- analogy, outsiders cannot see objects inside the house\n",
    "\n",
    "#define employee class\n",
    "class Employee:\n",
    "    #initializer / constructor\n",
    "    def __init__(self, first_name, last_name, number):\n",
    "        self._first_name = first_name\n",
    "        self._last_name = last_name\n",
    "        self._number = number\n",
    "        #in python naming convention, _(private)  (both are public in python though, python bugs that there are no private)\n",
    "        \n",
    "\n",
    "        \n",
    "   ###################################################Getters################################################# \n",
    "    #getters are customized for returns\n",
    "    #attributes / properties - Getters (get the values out)\n",
    "    @property\n",
    "    def first_name(self):\n",
    "        return self._first_name\n",
    "    \n",
    "    @property\n",
    "    def last_name(self):\n",
    "        return self._last_name\n",
    "    \n",
    "    @property\n",
    "    def number(self):\n",
    "        return self._number\n",
    "    \n",
    "    \n",
    "   ####################################################Setters################################################ \n",
    "    #setters are more for checking\n",
    "    #attributes / properties - Setters (set the values)\n",
    "    @first_name.setter\n",
    "    def first_name(self,var):\n",
    "        self._first_name = var\n",
    "        \n",
    "        \n",
    "    @last_name.setter\n",
    "    def last_name(self,var):\n",
    "        self._last_name = var\n",
    "        \n",
    "        \n",
    "    @number.setter\n",
    "    def number(self,var):\n",
    "        if var > 0 and var < 100: #setters are more for checking\n",
    "            self._number = var\n",
    "    \n",
    "    def print_name(self): #instance method\n",
    "        print(f'{self._number} : {self._first_name},{self._last_name}')\n",
    "        \n",
    "        \n",
    "####################################################################################################\n",
    "\n",
    "\n"
   ]
  },
  {
   "cell_type": "code",
   "execution_count": 22,
   "metadata": {},
   "outputs": [
    {
     "name": "stdout",
     "output_type": "stream",
     "text": [
      "0 : jane,doe\n",
      "1 : john,doe\n"
     ]
    }
   ],
   "source": [
    "#creating an object from the Employee class\n",
    "e1 = Employee('jane','doe',0)\n",
    "e2 = Employee('john','doe',1)\n",
    "\n",
    "\n",
    "e1.first_name = \"Jane\" #using the setter for the attribute\n",
    "print(e1.first_name) #using teh getter for the attribute\n",
    "\n",
    "e1.print_name()\n",
    "e2.print_name()\n",
    "\n",
    "'''\n",
    "class can have attributes (get/set)\n",
    "class also have functions/methods\n",
    "\n",
    "'''"
   ]
  },
  {
   "cell_type": "code",
   "execution_count": 20,
   "metadata": {},
   "outputs": [
    {
     "name": "stdout",
     "output_type": "stream",
     "text": [
      "jane\n",
      "doe\n",
      "0\n",
      "jane\n",
      "Doer\n",
      "0\n"
     ]
    }
   ],
   "source": [
    "print(e1.first_name)\n",
    "print(e1.last_name)\n",
    "print(e1.number)\n",
    "\n",
    "\n",
    "#this uses the setter\n",
    "#(Use below method to get objects from setters - enscapulation)\n",
    "e1.last_name = \"Doer\"\n",
    "print(e1.first_name)\n",
    "print(e1.last_name)\n",
    "print(e1.number)\n",
    "\n",
    "#this uses the getter\n",
    "#(DO NOT USE BELOW METHOD to get the objects directly from getter, instead get the objects from setter - enscapulation)\n",
    "# print(e1._first_name)\n",
    "# print(e1._last_name)\n",
    "# print(e1._number)\n",
    "\n"
   ]
  },
  {
   "cell_type": "code",
   "execution_count": 21,
   "metadata": {},
   "outputs": [
    {
     "name": "stdout",
     "output_type": "stream",
     "text": [
      "####################################################################################################\n"
     ]
    }
   ],
   "source": [
    "print('#'*100)"
   ]
  },
  {
   "cell_type": "markdown",
   "metadata": {},
   "source": [
    "# Python naming convention\n",
    "### python do not have  private or public concepts\n",
    "\n",
    "\n",
    "in cases where we insisted on using same name for both function and variables, we can define as follows\n",
    "def str:   #method\n",
    "str_ = \"hello\"  #variables\n",
    "\n",
    "\n",
    "in cases where we differentiate private and public variables (python do not differentiate between private and public, a bug in python)\n",
    "_str  #private variable\n",
    "str   #public variable\n",
    "\n",
    "function decorater\n",
    "@last_name.setter #function decorater (this is to tell python compiler that this is a setter using the alias @)\n",
    "\n",
    "module\n",
    "type(datetime.datetime.now().year)\n",
    "module >> class >> attribute that returns an int\n",
    "\n"
   ]
  },
  {
   "cell_type": "code",
   "execution_count": null,
   "metadata": {},
   "outputs": [],
   "source": []
  }
 ],
 "metadata": {
  "kernelspec": {
   "display_name": "Python 3",
   "language": "python",
   "name": "python3"
  },
  "language_info": {
   "codemirror_mode": {
    "name": "ipython",
    "version": 3
   },
   "file_extension": ".py",
   "mimetype": "text/x-python",
   "name": "python",
   "nbconvert_exporter": "python",
   "pygments_lexer": "ipython3",
   "version": "3.8.5"
  }
 },
 "nbformat": 4,
 "nbformat_minor": 4
}
