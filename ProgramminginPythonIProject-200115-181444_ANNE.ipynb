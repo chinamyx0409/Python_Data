{
 "cells": [
  {
   "cell_type": "markdown",
   "metadata": {},
   "source": [
    "# Programming in Python I - Project"
   ]
  },
  {
   "cell_type": "markdown",
   "metadata": {},
   "source": [
    "### For this project, you have to provide the solutions for the following 4 questions. Code your answers directly into the cell after each question. Be sure to run them to ensure that your code works. \n",
    "\n",
    "### After you have completed the questions, zip this file and upload this file back into the Course Content portal."
   ]
  },
  {
   "cell_type": "markdown",
   "metadata": {},
   "source": [
    "## 1. Write a function named <code>vowel()</code> to check if  a given string contains a vowel."
   ]
  },
  {
   "cell_type": "code",
   "execution_count": 2,
   "metadata": {},
   "outputs": [
    {
     "name": "stdout",
     "output_type": "stream",
     "text": [
      "True\n",
      "False\n",
      "True\n"
     ]
    }
   ],
   "source": [
    "def vowel(stringx):\n",
    "    vowels = set('aeiouAEIOU') #case-insensitivty\n",
    "    return not vowels.isdisjoint(stringx)\n",
    "\n",
    "print(vowel('aeiox')) #return true\n",
    "print(vowel('btrd')) #return false\n",
    "print(vowel('bAEiX'))#return true\n"
   ]
  },
  {
   "cell_type": "markdown",
   "metadata": {},
   "source": [
    "## 2. Write a function named <code>reverse()</code> that reverses a string."
   ]
  },
  {
   "cell_type": "code",
   "execution_count": 11,
   "metadata": {},
   "outputs": [
    {
     "name": "stdout",
     "output_type": "stream",
     "text": [
      "3210\n",
      "alucard\n"
     ]
    }
   ],
   "source": [
    "def reverse(stringX):\n",
    "    return stringX[::-1] #return reversed string, with -1 as one step reversal\n",
    "    \n",
    "print(reverse(\"0123\")) #returns \"3210\"\n",
    "print(reverse(\"dracula\")) #returns \"alucard\"\n",
    "\n",
    "\n",
    "\n",
    "\n"
   ]
  },
  {
   "cell_type": "markdown",
   "metadata": {},
   "source": [
    "## 3.\tWrite a function named <code>max_and_min()</code> that takes in a list of numbers and returns the maximum and minimum."
   ]
  },
  {
   "cell_type": "code",
   "execution_count": 8,
   "metadata": {},
   "outputs": [
    {
     "name": "stdout",
     "output_type": "stream",
     "text": [
      "the max and min are (100, -300)\n"
     ]
    }
   ],
   "source": [
    "# method1\n",
    "def max_and_min(*s):\n",
    "    return max(s),min(s) #returns a tuple with max and min\n",
    "print(f'the max and min are {max_and_min(100,-100,70,4,-300)}')\n"
   ]
  },
  {
   "cell_type": "code",
   "execution_count": 6,
   "metadata": {},
   "outputs": [
    {
     "name": "stdout",
     "output_type": "stream",
     "text": [
      "the max and min of ['-7.04', '-4.17', '-7.44', '-4.77', '-4.46', '-4.21', '-2.42', '-2.87', '-1.39', '-0.89', '0.00', '0.05', '1.96', '0.04', '1.92', '3.13', '1.02', '1.22', '4.46', '8.62'] are ('8.62', '-0.89')\n"
     ]
    }
   ],
   "source": [
    "# method2\n",
    "import random #to import random as to generate random numbers\n",
    "\n",
    "def max_min(s):\n",
    "    return max(s), min(s) #return the max and min\n",
    "    \n",
    "x = [f'{random.random()*x:.2f}' for x in range(-10,10)] #format to decimal points of the randomize numbers within the range of -10 to 10\n",
    "print(f'the max and min of {x} are {max_min(x)}')"
   ]
  },
  {
   "cell_type": "markdown",
   "metadata": {},
   "source": [
    "## 4.\tWrite a function named <code>palindrome()</code> that checks if a string is a palindrome."
   ]
  },
  {
   "cell_type": "code",
   "execution_count": 9,
   "metadata": {},
   "outputs": [
    {
     "name": "stdout",
     "output_type": "stream",
     "text": [
      "True\n",
      "True\n",
      "False\n"
     ]
    }
   ],
   "source": [
    "def palindrome(stringX):\n",
    "    return stringX == stringX[::-1] #match origin with reversed string and returns a boolean\n",
    "\n",
    "print(palindrome('110011')) #returns true\n",
    "print(palindrome('1101011')) #returns true\n",
    "print(palindrome('1101111')) #returns false\n",
    "\n",
    "\n",
    "\n",
    "\n",
    "\n",
    "\n"
   ]
  }
 ],
 "metadata": {
  "kernelspec": {
   "display_name": "Python 3",
   "language": "python",
   "name": "python3"
  },
  "language_info": {
   "codemirror_mode": {
    "name": "ipython",
    "version": 3
   },
   "file_extension": ".py",
   "mimetype": "text/x-python",
   "name": "python",
   "nbconvert_exporter": "python",
   "pygments_lexer": "ipython3",
   "version": "3.8.5"
  }
 },
 "nbformat": 4,
 "nbformat_minor": 2
}
